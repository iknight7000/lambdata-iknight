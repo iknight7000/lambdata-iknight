{
  "nbformat": 4,
  "nbformat_minor": 0,
  "metadata": {
    "colab": {
      "name": "Untitled0.ipynb",
      "provenance": []
    },
    "kernelspec": {
      "name": "python392jvsc74a57bd0b6aa737f36c5d93b6cbe8b742cd1c1391a187201e6ed0bc134578f07fcbe3de9",
      "display_name": "Python 3.9.2 64-bit"
    },
    "language_info": {
      "name": "python",
      "version": "3.9.2"
    },
    "metadata": {
      "interpreter": {
        "hash": "b6aa737f36c5d93b6cbe8b742cd1c1391a187201e6ed0bc134578f07fcbe3de9"
      }
    }
  },
  "cells": [
    {
      "cell_type": "code",
      "metadata": {
        "colab": {
          "base_uri": "https://localhost:8080/"
        },
        "id": "ToAF7t3qEjjg",
        "outputId": "06d81498-d6c4-4e5e-dea7-490c92415e84"
      },
      "source": [
        "pip install Faker"
      ],
      "execution_count": null,
      "outputs": [
        {
          "output_type": "stream",
          "text": [
            "Collecting Faker\n",
            "\u001b[?25l  Downloading https://files.pythonhosted.org/packages/9c/27/5c33577a2363bee9f917d4f3d4281bf9d181ca9890168b363cb415efe3f6/Faker-8.5.1-py3-none-any.whl (1.2MB)\n",
            "\r\u001b[K     |▎                               | 10kB 14.4MB/s eta 0:00:01\r\u001b[K     |▋                               | 20kB 20.9MB/s eta 0:00:01\r\u001b[K     |▉                               | 30kB 11.2MB/s eta 0:00:01\r\u001b[K     |█▏                              | 40kB 8.5MB/s eta 0:00:01\r\u001b[K     |█▍                              | 51kB 5.4MB/s eta 0:00:01\r\u001b[K     |█▊                              | 61kB 5.6MB/s eta 0:00:01\r\u001b[K     |██                              | 71kB 5.9MB/s eta 0:00:01\r\u001b[K     |██▎                             | 81kB 6.5MB/s eta 0:00:01\r\u001b[K     |██▌                             | 92kB 6.5MB/s eta 0:00:01\r\u001b[K     |██▉                             | 102kB 5.2MB/s eta 0:00:01\r\u001b[K     |███                             | 112kB 5.2MB/s eta 0:00:01\r\u001b[K     |███▍                            | 122kB 5.2MB/s eta 0:00:01\r\u001b[K     |███▋                            | 133kB 5.2MB/s eta 0:00:01\r\u001b[K     |████                            | 143kB 5.2MB/s eta 0:00:01\r\u001b[K     |████▏                           | 153kB 5.2MB/s eta 0:00:01\r\u001b[K     |████▌                           | 163kB 5.2MB/s eta 0:00:01\r\u001b[K     |████▊                           | 174kB 5.2MB/s eta 0:00:01\r\u001b[K     |█████                           | 184kB 5.2MB/s eta 0:00:01\r\u001b[K     |█████▎                          | 194kB 5.2MB/s eta 0:00:01\r\u001b[K     |█████▋                          | 204kB 5.2MB/s eta 0:00:01\r\u001b[K     |█████▉                          | 215kB 5.2MB/s eta 0:00:01\r\u001b[K     |██████▏                         | 225kB 5.2MB/s eta 0:00:01\r\u001b[K     |██████▍                         | 235kB 5.2MB/s eta 0:00:01\r\u001b[K     |██████▊                         | 245kB 5.2MB/s eta 0:00:01\r\u001b[K     |███████                         | 256kB 5.2MB/s eta 0:00:01\r\u001b[K     |███████▎                        | 266kB 5.2MB/s eta 0:00:01\r\u001b[K     |███████▋                        | 276kB 5.2MB/s eta 0:00:01\r\u001b[K     |███████▉                        | 286kB 5.2MB/s eta 0:00:01\r\u001b[K     |████████▏                       | 296kB 5.2MB/s eta 0:00:01\r\u001b[K     |████████▍                       | 307kB 5.2MB/s eta 0:00:01\r\u001b[K     |████████▊                       | 317kB 5.2MB/s eta 0:00:01\r\u001b[K     |█████████                       | 327kB 5.2MB/s eta 0:00:01\r\u001b[K     |█████████▎                      | 337kB 5.2MB/s eta 0:00:01\r\u001b[K     |█████████▌                      | 348kB 5.2MB/s eta 0:00:01\r\u001b[K     |█████████▉                      | 358kB 5.2MB/s eta 0:00:01\r\u001b[K     |██████████                      | 368kB 5.2MB/s eta 0:00:01\r\u001b[K     |██████████▍                     | 378kB 5.2MB/s eta 0:00:01\r\u001b[K     |██████████▋                     | 389kB 5.2MB/s eta 0:00:01\r\u001b[K     |███████████                     | 399kB 5.2MB/s eta 0:00:01\r\u001b[K     |███████████▏                    | 409kB 5.2MB/s eta 0:00:01\r\u001b[K     |███████████▌                    | 419kB 5.2MB/s eta 0:00:01\r\u001b[K     |███████████▊                    | 430kB 5.2MB/s eta 0:00:01\r\u001b[K     |████████████                    | 440kB 5.2MB/s eta 0:00:01\r\u001b[K     |████████████▎                   | 450kB 5.2MB/s eta 0:00:01\r\u001b[K     |████████████▋                   | 460kB 5.2MB/s eta 0:00:01\r\u001b[K     |████████████▉                   | 471kB 5.2MB/s eta 0:00:01\r\u001b[K     |█████████████▏                  | 481kB 5.2MB/s eta 0:00:01\r\u001b[K     |█████████████▌                  | 491kB 5.2MB/s eta 0:00:01\r\u001b[K     |█████████████▊                  | 501kB 5.2MB/s eta 0:00:01\r\u001b[K     |██████████████                  | 512kB 5.2MB/s eta 0:00:01\r\u001b[K     |██████████████▎                 | 522kB 5.2MB/s eta 0:00:01\r\u001b[K     |██████████████▋                 | 532kB 5.2MB/s eta 0:00:01\r\u001b[K     |██████████████▉                 | 542kB 5.2MB/s eta 0:00:01\r\u001b[K     |███████████████▏                | 552kB 5.2MB/s eta 0:00:01\r\u001b[K     |███████████████▍                | 563kB 5.2MB/s eta 0:00:01\r\u001b[K     |███████████████▊                | 573kB 5.2MB/s eta 0:00:01\r\u001b[K     |████████████████                | 583kB 5.2MB/s eta 0:00:01\r\u001b[K     |████████████████▎               | 593kB 5.2MB/s eta 0:00:01\r\u001b[K     |████████████████▌               | 604kB 5.2MB/s eta 0:00:01\r\u001b[K     |████████████████▉               | 614kB 5.2MB/s eta 0:00:01\r\u001b[K     |█████████████████               | 624kB 5.2MB/s eta 0:00:01\r\u001b[K     |█████████████████▍              | 634kB 5.2MB/s eta 0:00:01\r\u001b[K     |█████████████████▋              | 645kB 5.2MB/s eta 0:00:01\r\u001b[K     |██████████████████              | 655kB 5.2MB/s eta 0:00:01\r\u001b[K     |██████████████████▏             | 665kB 5.2MB/s eta 0:00:01\r\u001b[K     |██████████████████▌             | 675kB 5.2MB/s eta 0:00:01\r\u001b[K     |██████████████████▊             | 686kB 5.2MB/s eta 0:00:01\r\u001b[K     |███████████████████             | 696kB 5.2MB/s eta 0:00:01\r\u001b[K     |███████████████████▎            | 706kB 5.2MB/s eta 0:00:01\r\u001b[K     |███████████████████▋            | 716kB 5.2MB/s eta 0:00:01\r\u001b[K     |███████████████████▉            | 727kB 5.2MB/s eta 0:00:01\r\u001b[K     |████████████████████▏           | 737kB 5.2MB/s eta 0:00:01\r\u001b[K     |████████████████████▌           | 747kB 5.2MB/s eta 0:00:01\r\u001b[K     |████████████████████▊           | 757kB 5.2MB/s eta 0:00:01\r\u001b[K     |█████████████████████           | 768kB 5.2MB/s eta 0:00:01\r\u001b[K     |█████████████████████▎          | 778kB 5.2MB/s eta 0:00:01\r\u001b[K     |█████████████████████▋          | 788kB 5.2MB/s eta 0:00:01\r\u001b[K     |█████████████████████▉          | 798kB 5.2MB/s eta 0:00:01\r\u001b[K     |██████████████████████▏         | 808kB 5.2MB/s eta 0:00:01\r\u001b[K     |██████████████████████▍         | 819kB 5.2MB/s eta 0:00:01\r\u001b[K     |██████████████████████▊         | 829kB 5.2MB/s eta 0:00:01\r\u001b[K     |███████████████████████         | 839kB 5.2MB/s eta 0:00:01\r\u001b[K     |███████████████████████▎        | 849kB 5.2MB/s eta 0:00:01\r\u001b[K     |███████████████████████▌        | 860kB 5.2MB/s eta 0:00:01\r\u001b[K     |███████████████████████▉        | 870kB 5.2MB/s eta 0:00:01\r\u001b[K     |████████████████████████        | 880kB 5.2MB/s eta 0:00:01\r\u001b[K     |████████████████████████▍       | 890kB 5.2MB/s eta 0:00:01\r\u001b[K     |████████████████████████▋       | 901kB 5.2MB/s eta 0:00:01\r\u001b[K     |█████████████████████████       | 911kB 5.2MB/s eta 0:00:01\r\u001b[K     |█████████████████████████▏      | 921kB 5.2MB/s eta 0:00:01\r\u001b[K     |█████████████████████████▌      | 931kB 5.2MB/s eta 0:00:01\r\u001b[K     |█████████████████████████▊      | 942kB 5.2MB/s eta 0:00:01\r\u001b[K     |██████████████████████████      | 952kB 5.2MB/s eta 0:00:01\r\u001b[K     |██████████████████████████▎     | 962kB 5.2MB/s eta 0:00:01\r\u001b[K     |██████████████████████████▋     | 972kB 5.2MB/s eta 0:00:01\r\u001b[K     |███████████████████████████     | 983kB 5.2MB/s eta 0:00:01\r\u001b[K     |███████████████████████████▏    | 993kB 5.2MB/s eta 0:00:01\r\u001b[K     |███████████████████████████▌    | 1.0MB 5.2MB/s eta 0:00:01\r\u001b[K     |███████████████████████████▊    | 1.0MB 5.2MB/s eta 0:00:01\r\u001b[K     |████████████████████████████    | 1.0MB 5.2MB/s eta 0:00:01\r\u001b[K     |████████████████████████████▎   | 1.0MB 5.2MB/s eta 0:00:01\r\u001b[K     |████████████████████████████▋   | 1.0MB 5.2MB/s eta 0:00:01\r\u001b[K     |████████████████████████████▉   | 1.1MB 5.2MB/s eta 0:00:01\r\u001b[K     |█████████████████████████████▏  | 1.1MB 5.2MB/s eta 0:00:01\r\u001b[K     |█████████████████████████████▍  | 1.1MB 5.2MB/s eta 0:00:01\r\u001b[K     |█████████████████████████████▊  | 1.1MB 5.2MB/s eta 0:00:01\r\u001b[K     |██████████████████████████████  | 1.1MB 5.2MB/s eta 0:00:01\r\u001b[K     |██████████████████████████████▎ | 1.1MB 5.2MB/s eta 0:00:01\r\u001b[K     |██████████████████████████████▌ | 1.1MB 5.2MB/s eta 0:00:01\r\u001b[K     |██████████████████████████████▉ | 1.1MB 5.2MB/s eta 0:00:01\r\u001b[K     |███████████████████████████████ | 1.1MB 5.2MB/s eta 0:00:01\r\u001b[K     |███████████████████████████████▍| 1.1MB 5.2MB/s eta 0:00:01\r\u001b[K     |███████████████████████████████▋| 1.2MB 5.2MB/s eta 0:00:01\r\u001b[K     |████████████████████████████████| 1.2MB 5.2MB/s eta 0:00:01\r\u001b[K     |████████████████████████████████| 1.2MB 5.2MB/s \n",
            "\u001b[?25hRequirement already satisfied: text-unidecode==1.3 in /usr/local/lib/python3.7/dist-packages (from Faker) (1.3)\n",
            "Requirement already satisfied: python-dateutil>=2.4 in /usr/local/lib/python3.7/dist-packages (from Faker) (2.8.1)\n",
            "Requirement already satisfied: six>=1.5 in /usr/local/lib/python3.7/dist-packages (from python-dateutil>=2.4->Faker) (1.15.0)\n",
            "Installing collected packages: Faker\n",
            "Successfully installed Faker-8.5.1\n"
          ],
          "name": "stdout"
        }
      ]
    },
    {
      "cell_type": "code",
      "metadata": {
        "id": "riDCLcl3EhEA"
      },
      "source": [
        "import pandas as pd\n",
        "import numpy as np\n",
        "from faker import Faker \n",
        "\n",
        "fake = Faker()\n",
        "\n",
        "df = pd.read_csv(\"https://raw.githubusercontent.com/iknight7000/lambdata-knight/main/Hospitals.csv\")\n",
        "\n",
        "new_addresses = []\n",
        "for _ in range(10):\n",
        "    new_addresses.append(fake.address())\n",
        "\n",
        "class Null_Count:\n",
        "    \"\"\"A Null Count class with methods and attributes\"\"\"\n",
        "    # Constructors are used to instantiate an object of the class.\n",
        "    # The __init__ *keyword* is a method that defines the objects.\n",
        "    # self arguments reference the instance of the class to interact with itself\n",
        "    # df is the argument that has to be passed in to the object\n",
        "    def __init__(self,df):\n",
        "        \"\"\"This is a constructor method\"\"\"\n",
        "        self.df = df\n",
        "        # attributes\n",
        "        #This is the creation of the attribute\n",
        "        #We are defining the attribute here\n",
        "        \n",
        "\n",
        "    def clean_data(self):\n",
        "        return df.isnull().sum().sum()\n",
        "\n",
        "\n",
        "class Add_Series:\n",
        "    def __init__(self,df):\n",
        "        self.df = df \n",
        "\n",
        "    def list_to_series(list,df):\n",
        "        df[\"\"] = pd.Series(list)\n"
      ],
      "execution_count": 5,
      "outputs": []
    },
    {
      "cell_type": "code",
      "metadata": {
        "id": "wETW9MB2Eqpe"
      },
      "source": [
        "def test_null_count():\n",
        "    assert Null_Count.clean_data(df) == 7"
      ],
      "execution_count": 7,
      "outputs": []
    }
  ]
}